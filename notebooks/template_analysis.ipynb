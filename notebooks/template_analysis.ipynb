{
 "cells": [
  {
   "cell_type": "markdown",
   "metadata": {},
   "source": [
    "# Copernicus Marine Data Analysis Template\n",
    "\n",
    "이 노트북은 코페르니쿠스 해양 데이터 분석을 위한 템플릿입니다.\n",
    "필요에 따라 각 섹션을 수정하여 사용하세요.\n",
    "\n",
    "## 목차\n",
    "1. 환경 설정\n",
    "2. 데이터 로딩\n",
    "3. 데이터 탐색\n",
    "4. 데이터 전처리\n",
    "5. 분석\n",
    "6. 시각화\n",
    "7. 결과 저장"
   ]
  },
  {
   "cell_type": "markdown",
   "metadata": {},
   "source": [
    "## 1. 환경 설정"
   ]
  },
  {
   "cell_type": "code",
   "execution_count": null,
   "metadata": {},
   "outputs": [],
   "source": [
    "# 기본 라이브러리\n",
    "import os\n",
    "import sys\n",
    "import warnings\n",
    "from datetime import datetime, timedelta\n",
    "\n",
    "# 데이터 처리\n",
    "import numpy as np\n",
    "import pandas as pd\n",
    "import xarray as xr\n",
    "\n",
    "# 시각화\n",
    "import matplotlib.pyplot as plt\n",
    "import matplotlib.dates as mdates\n",
    "import cartopy.crs as ccrs\n",
    "import cartopy.feature as cfeature\n",
    "\n",
    "# Copernicus 유틸리티 모듈\n",
    "sys.path.append('..')\n",
    "import copernicus_utils as cu\n",
    "\n",
    "# 경고 무시\n",
    "warnings.filterwarnings('ignore')\n",
    "\n",
    "# 그래프 스타일 설정\n",
    "plt.style.use('seaborn-v0_8-darkgrid')\n",
    "plt.rcParams['figure.figsize'] = (12, 6)\n",
    "plt.rcParams['font.size'] = 12\n",
    "\n",
    "print(\"환경 설정 완료!\")"
   ]
  },
  {
   "cell_type": "markdown",
   "metadata": {},
   "source": [
    "## 2. 데이터 로딩"
   ]
  },
  {
   "cell_type": "code",
   "execution_count": null,
   "metadata": {},
   "outputs": [],
   "source": [
    "# 분석 설정\n",
    "config = {\n",
    "    'data_path': '../data/your_data.nc',  # 데이터 파일 경로\n",
    "    'variable': 'sst',  # 분석할 변수\n",
    "    'region': {\n",
    "        'lon_range': (120, 140),  # 경도 범위\n",
    "        'lat_range': (30, 45)      # 위도 범위\n",
    "    },\n",
    "    'time_range': {\n",
    "        'start': '2020-01-01',\n",
    "        'end': '2023-12-31'\n",
    "    },\n",
    "    'output_dir': '../output/'  # 결과 저장 경로\n",
    "}\n",
    "\n",
    "# 출력 디렉토리 생성\n",
    "os.makedirs(config['output_dir'], exist_ok=True)"
   ]
  },
  {
   "cell_type": "code",
   "execution_count": null,
   "metadata": {},
   "outputs": [],
   "source": [
    "# 데이터 로딩\n",
    "# ds = cu.load_dataset(config['data_path'])\n",
    "\n",
    "# 샘플 데이터 생성 (실제 사용시 위 코드로 대체)\n",
    "import numpy as np\n",
    "import pandas as pd\n",
    "import xarray as xr\n",
    "\n",
    "# 시간, 위도, 경도 좌표 생성\n",
    "time = pd.date_range('2020-01-01', '2023-12-31', freq='D')\n",
    "lat = np.arange(30, 45.5, 0.5)\n",
    "lon = np.arange(120, 140.5, 0.5)\n",
    "\n",
    "# 샘플 SST 데이터 생성 (계절성 + 노이즈)\n",
    "sst_data = np.zeros((len(time), len(lat), len(lon)))\n",
    "for t in range(len(time)):\n",
    "    seasonal = 20 + 10 * np.sin(2 * np.pi * t / 365.25)\n",
    "    for i in range(len(lat)):\n",
    "        for j in range(len(lon)):\n",
    "            lat_effect = (45 - lat[i]) / 15 * 5\n",
    "            sst_data[t, i, j] = seasonal + lat_effect + np.random.randn() * 2\n",
    "\n",
    "# xarray Dataset 생성\n",
    "ds = xr.Dataset(\n",
    "    {\n",
    "        'sst': (['time', 'latitude', 'longitude'], sst_data),\n",
    "        'salinity': (['time', 'latitude', 'longitude'], \n",
    "                    35 + np.random.randn(len(time), len(lat), len(lon)) * 0.5)\n",
    "    },\n",
    "    coords={\n",
    "        'time': time,\n",
    "        'latitude': lat,\n",
    "        'longitude': lon\n",
    "    }\n",
    ")\n",
    "\n",
    "# 속성 추가\n",
    "ds['sst'].attrs['units'] = '°C'\n",
    "ds['sst'].attrs['long_name'] = 'Sea Surface Temperature'\n",
    "ds['salinity'].attrs['units'] = 'PSU'\n",
    "ds['salinity'].attrs['long_name'] = 'Sea Surface Salinity'\n",
    "\n",
    "print(\"샘플 데이터 생성 완료!\")"
   ]
  },
  {
   "cell_type": "markdown",
   "metadata": {},
   "source": [
    "## 3. 데이터 탐색"
   ]
  },
  {
   "cell_type": "code",
   "execution_count": null,
   "metadata": {},
   "outputs": [],
   "source": [
    "# 데이터셋 정보 확인\n",
    "print(\"=\" * 50)\n",
    "print(\"데이터셋 정보:\")\n",
    "print(\"=\" * 50)\n",
    "print(ds)\n",
    "print(\"\\n\")\n",
    "\n",
    "# 변수 목록 확인\n",
    "var_info = cu.list_variables(ds)\n",
    "print(\"변수 정보:\")\n",
    "print(var_info)"
   ]
  },
  {
   "cell_type": "code",
   "execution_count": null,
   "metadata": {},
   "outputs": [],
   "source": [
    "# 데이터 품질 검사\n",
    "qc_result = cu.quality_check(\n",
    "    ds, \n",
    "    config['variable'],\n",
    "    valid_range=(-2, 40),  # SST 유효 범위\n",
    "    min_coverage=0.8\n",
    ")\n",
    "\n",
    "print(\"\\n품질 검사 결과:\")\n",
    "for key, value in qc_result.items():\n",
    "    if key not in ['shape', 'long_gaps']:\n",
    "        print(f\"  {key}: {value}\")"
   ]
  },
  {
   "cell_type": "markdown",
   "metadata": {},
   "source": [
    "## 4. 데이터 전처리"
   ]
  },
  {
   "cell_type": "code",
   "execution_count": null,
   "metadata": {},
   "outputs": [],
   "source": [
    "# 지역 추출\n",
    "ds_region = cu.subset_region(\n",
    "    ds,\n",
    "    lon_range=config['region']['lon_range'],\n",
    "    lat_range=config['region']['lat_range']\n",
    ")\n",
    "\n",
    "# 시간 추출\n",
    "ds_subset = cu.subset_time(\n",
    "    ds_region,\n",
    "    start_date=config['time_range']['start'],\n",
    "    end_date=config['time_range']['end']\n",
    ")\n",
    "\n",
    "print(f\"\\n전처리 후 데이터 크기: {dict(ds_subset.dims)}\")"
   ]
  },
  {
   "cell_type": "markdown",
   "metadata": {},
   "source": [
    "## 5. 분석"
   ]
  },
  {
   "cell_type": "code",
   "execution_count": null,
   "metadata": {},
   "outputs": [],
   "source": [
    "# 5.1 공간 평균 시계열 생성\n",
    "ts_mean = cu.create_timeseries(\n",
    "    ds_subset,\n",
    "    config['variable'],\n",
    "    spatial_mean=True\n",
    ")\n",
    "\n",
    "print(f\"시계열 길이: {len(ts_mean)}\")\n",
    "print(f\"평균값: {ts_mean.mean():.2f}\")\n",
    "print(f\"표준편차: {ts_mean.std():.2f}\")"
   ]
  },
  {
   "cell_type": "code",
   "execution_count": null,
   "metadata": {},
   "outputs": [],
   "source": [
    "# 5.2 이상치(Anomaly) 계산\n",
    "anomaly = cu.calculate_anomaly(\n",
    "    ds_subset,\n",
    "    config['variable'],\n",
    "    reference_period=(config['time_range']['start'], '2021-12-31')\n",
    ")\n",
    "\n",
    "print(\"이상치 계산 완료\")"
   ]
  },
  {
   "cell_type": "code",
   "execution_count": null,
   "metadata": {},
   "outputs": [],
   "source": [
    "# 5.3 트렌드 분석\n",
    "trend = cu.calculate_trend(ts_mean, method='linear')\n",
    "\n",
    "print(\"\\n트렌드 분석 결과:\")\n",
    "print(f\"  기울기: {trend['slope']:.4f}\")\n",
    "print(f\"  R²: {trend['r_squared']:.3f}\")\n",
    "print(f\"  p-value: {trend['p_value']:.4f}\")\n",
    "if 'annual_trend' in trend:\n",
    "    print(f\"  연간 트렌드: {trend['annual_trend']:.3f}°C/year\")"
   ]
  },
  {
   "cell_type": "code",
   "execution_count": null,
   "metadata": {},
   "outputs": [],
   "source": [
    "# 5.4 이동평균 적용\n",
    "ts_smooth = cu.apply_moving_average(ts_mean, window=30, center=True)\n",
    "\n",
    "print(\"30일 이동평균 적용 완료\")"
   ]
  },
  {
   "cell_type": "code",
   "execution_count": null,
   "metadata": {},
   "outputs": [],
   "source": [
    "# 5.5 극값 이벤트 탐지\n",
    "extremes = cu.detect_extremes(\n",
    "    ts_mean,\n",
    "    threshold_type='percentile',\n",
    "    threshold_value=95,\n",
    "    duration=5\n",
    ")\n",
    "\n",
    "print(f\"\\n극값 이벤트: {len(extremes)}개\")\n",
    "if len(extremes) > 0:\n",
    "    print(\"\\n상위 3개 이벤트:\")\n",
    "    print(extremes.nlargest(3, 'max_value')[['start', 'end', 'duration', 'max_value']])"
   ]
  },
  {
   "cell_type": "markdown",
   "metadata": {},
   "source": [
    "## 6. 시각화"
   ]
  },
  {
   "cell_type": "code",
   "execution_count": null,
   "metadata": {},
   "outputs": [],
   "source": [
    "# 6.1 공간 분포 지도\n",
    "fig, ax = cu.plot_map(\n",
    "    ds_subset,\n",
    "    config['variable'],\n",
    "    time_idx='2023-07-01',\n",
    "    figsize=(14, 8),\n",
    "    cmap='RdYlBu_r',\n",
    "    title=f\"{config['variable'].upper()} Spatial Distribution - 2023-07-01\"\n",
    ")\n",
    "plt.show()"
   ]
  },
  {
   "cell_type": "code",
   "execution_count": null,
   "metadata": {},
   "outputs": [],
   "source": [
    "# 6.2 시계열 플롯\n",
    "fig, axes = plt.subplots(2, 1, figsize=(14, 10))\n",
    "\n",
    "# 원본 시계열과 이동평균\n",
    "ax1 = axes[0]\n",
    "ax1.plot(ts_mean.index, ts_mean.values, label='Original', alpha=0.5, linewidth=0.5)\n",
    "ax1.plot(ts_smooth.index, ts_smooth.values, label='30-day Moving Average', linewidth=2)\n",
    "ax1.plot(trend['trend_line'].index, trend['trend_line'].values, \n",
    "         label=f'Linear Trend ({trend[\"slope\"]:.4f}/day)', linestyle='--', linewidth=2)\n",
    "ax1.set_ylabel(f'{config[\"variable\"].upper()} (°C)')\n",
    "ax1.set_title('Time Series Analysis')\n",
    "ax1.legend(loc='best')\n",
    "ax1.grid(True, alpha=0.3)\n",
    "\n",
    "# 이상치\n",
    "ax2 = axes[1]\n",
    "anomaly_ts = cu.create_timeseries(xr.Dataset({config['variable']: anomaly}), \n",
    "                                  config['variable'], spatial_mean=True)\n",
    "ax2.fill_between(anomaly_ts.index, 0, anomaly_ts.values, \n",
    "                  where=(anomaly_ts.values > 0), color='red', alpha=0.5, label='Positive')\n",
    "ax2.fill_between(anomaly_ts.index, 0, anomaly_ts.values, \n",
    "                  where=(anomaly_ts.values < 0), color='blue', alpha=0.5, label='Negative')\n",
    "ax2.axhline(y=0, color='black', linestyle='-', linewidth=0.5)\n",
    "ax2.set_ylabel('Anomaly (°C)')\n",
    "ax2.set_xlabel('Date')\n",
    "ax2.set_title('Temperature Anomaly')\n",
    "ax2.legend(loc='best')\n",
    "ax2.grid(True, alpha=0.3)\n",
    "\n",
    "plt.tight_layout()\n",
    "plt.show()"
   ]
  },
  {
   "cell_type": "code",
   "execution_count": null,
   "metadata": {},
   "outputs": [],
   "source": [
    "# 6.3 월별 평균 박스플롯\n",
    "monthly_data = []\n",
    "months = []\n",
    "\n",
    "for month in range(1, 13):\n",
    "    month_data = ts_mean[ts_mean.index.month == month]\n",
    "    if len(month_data) > 0:\n",
    "        monthly_data.append(month_data.values)\n",
    "        months.append(month)\n",
    "\n",
    "fig, ax = plt.subplots(figsize=(12, 6))\n",
    "bp = ax.boxplot(monthly_data, positions=months, widths=0.6)\n",
    "ax.set_xlabel('Month')\n",
    "ax.set_ylabel(f'{config[\"variable\"].upper()} (°C)')\n",
    "ax.set_title('Monthly Distribution')\n",
    "ax.set_xticks(months)\n",
    "ax.set_xticklabels(['Jan', 'Feb', 'Mar', 'Apr', 'May', 'Jun',\n",
    "                     'Jul', 'Aug', 'Sep', 'Oct', 'Nov', 'Dec'])\n",
    "ax.grid(True, alpha=0.3)\n",
    "plt.show()"
   ]
  },
  {
   "cell_type": "markdown",
   "metadata": {},
   "source": [
    "## 7. 결과 저장"
   ]
  },
  {
   "cell_type": "code",
   "execution_count": null,
   "metadata": {},
   "outputs": [],
   "source": [
    "# 7.1 분석 결과 저장\n",
    "results = {\n",
    "    'config': config,\n",
    "    'statistics': {\n",
    "        'mean': float(ts_mean.mean()),\n",
    "        'std': float(ts_mean.std()),\n",
    "        'min': float(ts_mean.min()),\n",
    "        'max': float(ts_mean.max())\n",
    "    },\n",
    "    'trend': {\n",
    "        'slope': trend['slope'],\n",
    "        'r_squared': trend['r_squared'],\n",
    "        'p_value': trend['p_value']\n",
    "    },\n",
    "    'quality': qc_result,\n",
    "    'extremes': len(extremes)\n",
    "}\n",
    "\n",
    "# JSON으로 저장\n",
    "cu.save_config(results, os.path.join(config['output_dir'], 'analysis_results.json'))"
   ]
  },
  {
   "cell_type": "code",
   "execution_count": null,
   "metadata": {},
   "outputs": [],
   "source": [
    "# 7.2 시계열 데이터 CSV 저장\n",
    "ts_df = pd.DataFrame({\n",
    "    'date': ts_mean.index,\n",
    "    config['variable']: ts_mean.values,\n",
    "    f'{config[\"variable\"]}_smooth': ts_smooth.values,\n",
    "    'trend': trend['trend_line'].values\n",
    "})\n",
    "\n",
    "cu.export_to_csv(\n",
    "    ts_df,\n",
    "    os.path.join(config['output_dir'], 'timeseries.csv')\n",
    ")"
   ]
  },
  {
   "cell_type": "code",
   "execution_count": null,
   "metadata": {},
   "outputs": [],
   "source": [
    "# 7.3 처리된 데이터셋 저장 (NetCDF)\n",
    "output_nc = os.path.join(config['output_dir'], 'processed_data.nc')\n",
    "ds_subset.to_netcdf(output_nc)\n",
    "print(f\"NetCDF 파일 저장: {output_nc}\")"
   ]
  },
  {
   "cell_type": "markdown",
   "metadata": {},
   "source": [
    "## 8. 분석 요약\n",
    "\n",
    "### 주요 발견사항\n",
    "- [여기에 주요 분석 결과를 요약하세요]\n",
    "- [트렌드, 극값, 특이사항 등]\n",
    "\n",
    "### 다음 단계\n",
    "- [추가 분석이 필요한 부분]\n",
    "- [다른 변수와의 상관관계 분석]\n",
    "- [모델링 또는 예측]"
   ]
  }
 ],
 "metadata": {
  "kernelspec": {
   "display_name": "Python 3",
   "language": "python",
   "name": "python3"
  },
  "language_info": {
   "codemirror_mode": {
    "name": "ipython",
    "version": 3
   },
   "file_extension": ".py",
   "mimetype": "text/x-python",
   "name": "python",
   "nbconvert_exporter": "python",
   "pygments_lexer": "ipython3",
   "version": "3.9.0"
  }
 },
 "nbformat": 4,
 "nbformat_minor": 4
}